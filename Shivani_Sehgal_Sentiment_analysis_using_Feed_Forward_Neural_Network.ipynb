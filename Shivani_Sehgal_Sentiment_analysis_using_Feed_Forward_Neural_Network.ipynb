{
  "nbformat": 4,
  "nbformat_minor": 0,
  "metadata": {
    "colab": {
      "provenance": [],
      "machine_shape": "hm"
    },
    "kernelspec": {
      "name": "python3",
      "display_name": "Python 3"
    },
    "accelerator": "GPU"
  },
  "cells": [
    {
      "cell_type": "markdown",
      "metadata": {
        "id": "q7JTHrzgdnCN"
      },
      "source": [
        "#Sentiment Analysis of drug reviews\n",
        "\n",
        "---\n",
        "\n"
      ]
    },
    {
      "cell_type": "markdown",
      "metadata": {
        "id": "sGAgybK0cWT9"
      },
      "source": [
        "####Sentiment Analysis is an algorithm in Natural Language Processing which is used to detect sentiment within sequence of text (Sentence). In this work, I have choose to work on analysing drug reviews provided by the patients. The reviews are in the form of text. Along with drugs reviews, the input also contains ratings corresponding to each reviews on a scale from 1-10. The input datasets are obtained from UCI machine learning repository. This is my first attempt to use deep learning model, in which I am using Feed forward neural network to analyze the drug reviews and provide prediction whether the particular drug review is positive or negative. I will also be using different performance metrics like accuracy and loss test the performance."
      ]
    },
    {
      "cell_type": "markdown",
      "metadata": {
        "id": "wKcl-Kf8eLNF"
      },
      "source": [
        "#####Retrieve the input files from the google drive"
      ]
    },
    {
      "cell_type": "markdown",
      "source": [],
      "metadata": {
        "id": "bnbNSQpC84Dd"
      }
    },
    {
      "cell_type": "code",
      "metadata": {
        "id": "f4p1q9j8sss9",
        "colab": {
          "base_uri": "https://localhost:8080/"
        },
        "outputId": "239941b7-0655-431d-bbb5-9926377541a7"
      },
      "source": [
        "from google.colab import drive\n",
        "drive.mount('/content/gdrive')"
      ],
      "execution_count": 1,
      "outputs": [
        {
          "output_type": "stream",
          "name": "stdout",
          "text": [
            "Mounted at /content/gdrive\n"
          ]
        }
      ]
    },
    {
      "cell_type": "markdown",
      "metadata": {
        "id": "isrBRwOWeUpI"
      },
      "source": [
        "#####Load the necessary input libraries"
      ]
    },
    {
      "cell_type": "code",
      "metadata": {
        "id": "0w4uA2iWszLN",
        "colab": {
          "base_uri": "https://localhost:8080/"
        },
        "outputId": "5855afdc-bc7d-4ada-f3db-dca349237b94"
      },
      "source": [
        "import numpy as np\n",
        "import pandas as pd\n",
        "\n",
        "# importing the libraries for deep learning models\n",
        "import keras \n",
        "from keras.models import Sequential\n",
        "from keras.wrappers.scikit_learn import KerasClassifier\n",
        "from keras.layers import Dense\n",
        "from keras.utils import np_utils\n",
        "from keras.layers import Bidirectional\n",
        "from keras.layers import BatchNormalization\n",
        "from keras.layers import LSTM\n",
        "from keras.metrics import Precision\n",
        "from keras.preprocessing.text import Tokenizer\n",
        "from keras.layers import LSTM, Embedding, SpatialDropout1D, Bidirectional\n",
        "from sklearn.metrics import accuracy_score\n",
        "\n",
        "# importing the libraries for stemming\n",
        "import re\n",
        "from bs4 import BeautifulSoup\n",
        "import nltk\n",
        "nltk.download('stopwords')\n",
        "from nltk.corpus import stopwords\n",
        "from nltk.stem.snowball import SnowballStemmer\n",
        "\n",
        "from sklearn.model_selection import train_test_split\n",
        "\n",
        "from sklearn.feature_extraction.text import CountVectorizer\n",
        "from sklearn.pipeline import Pipeline\n",
        "\n",
        "#from keras_self_attention import SeqSelfAttention, SeqWeightedAttention\n",
        "from tensorflow.keras import optimizers\n",
        "from tensorflow import keras\n",
        "from tensorflow.keras.preprocessing.sequence import pad_sequences\n",
        "from tensorflow.keras import layers\n",
        "\n",
        "import matplotlib.pyplot as plt\n",
        "from IPython.core.interactiveshell import InteractiveShell\n",
        "InteractiveShell.ast_node_interactivity = \"all\""
      ],
      "execution_count": 2,
      "outputs": [
        {
          "output_type": "stream",
          "name": "stderr",
          "text": [
            "[nltk_data] Downloading package stopwords to /root/nltk_data...\n",
            "[nltk_data]   Unzipping corpora/stopwords.zip.\n"
          ]
        }
      ]
    },
    {
      "cell_type": "markdown",
      "metadata": {
        "id": "OWWomdIqebSS"
      },
      "source": [
        "#####Read the input files to pandas dataframe"
      ]
    },
    {
      "cell_type": "code",
      "metadata": {
        "id": "EGyE3eoys8Ev",
        "colab": {
          "base_uri": "https://localhost:8080/"
        },
        "outputId": "b5ec30a2-c99b-45f0-cb4d-36fdd32a4d36"
      },
      "source": [
        "df_train = pd.read_csv('/content/gdrive/My Drive/drugs_dataset/drugsComTrain_raw.tsv', sep='\\t')\n",
        "df_test  = pd.read_csv('/content/gdrive/My Drive/drugs_dataset/drugsComTest_raw.tsv', sep='\\t')\n",
        "\n",
        "# getting the shapes\n",
        "print(\"Shape of train :\", df_train.shape)\n",
        "print(\"Shape of test :\", df_test.shape)"
      ],
      "execution_count": 3,
      "outputs": [
        {
          "output_type": "stream",
          "name": "stdout",
          "text": [
            "Shape of train : (161297, 7)\n",
            "Shape of test : (53766, 7)\n"
          ]
        }
      ]
    },
    {
      "cell_type": "markdown",
      "metadata": {
        "id": "FUc3cHjyeiEm"
      },
      "source": [
        "#####Validating the dataframe if the data read properly using head function"
      ]
    },
    {
      "cell_type": "code",
      "metadata": {
        "id": "WF89MEwWtinj",
        "colab": {
          "base_uri": "https://localhost:8080/",
          "height": 204
        },
        "outputId": "82eaea9f-240c-4a6a-cec7-acac5193e97f"
      },
      "source": [
        "df_train.head()"
      ],
      "execution_count": 4,
      "outputs": [
        {
          "output_type": "execute_result",
          "data": {
            "text/plain": [
              "   Unnamed: 0                  drugName                     condition  \\\n",
              "0      206461                 Valsartan  Left Ventricular Dysfunction   \n",
              "1       95260                Guanfacine                          ADHD   \n",
              "2       92703                    Lybrel                 Birth Control   \n",
              "3      138000                Ortho Evra                 Birth Control   \n",
              "4       35696  Buprenorphine / naloxone             Opiate Dependence   \n",
              "\n",
              "                                              review  rating  \\\n",
              "0  \"It has no side effect, I take it in combinati...     9.0   \n",
              "1  \"My son is halfway through his fourth week of ...     8.0   \n",
              "2  \"I used to take another oral contraceptive, wh...     5.0   \n",
              "3  \"This is my first time using any form of birth...     8.0   \n",
              "4  \"Suboxone has completely turned my life around...     9.0   \n",
              "\n",
              "                date  usefulCount  \n",
              "0       May 20, 2012           27  \n",
              "1     April 27, 2010          192  \n",
              "2  December 14, 2009           17  \n",
              "3   November 3, 2015           10  \n",
              "4  November 27, 2016           37  "
            ],
            "text/html": [
              "\n",
              "  <div id=\"df-8c25f5f5-8333-4a88-ab20-5a063f178260\">\n",
              "    <div class=\"colab-df-container\">\n",
              "      <div>\n",
              "<style scoped>\n",
              "    .dataframe tbody tr th:only-of-type {\n",
              "        vertical-align: middle;\n",
              "    }\n",
              "\n",
              "    .dataframe tbody tr th {\n",
              "        vertical-align: top;\n",
              "    }\n",
              "\n",
              "    .dataframe thead th {\n",
              "        text-align: right;\n",
              "    }\n",
              "</style>\n",
              "<table border=\"1\" class=\"dataframe\">\n",
              "  <thead>\n",
              "    <tr style=\"text-align: right;\">\n",
              "      <th></th>\n",
              "      <th>Unnamed: 0</th>\n",
              "      <th>drugName</th>\n",
              "      <th>condition</th>\n",
              "      <th>review</th>\n",
              "      <th>rating</th>\n",
              "      <th>date</th>\n",
              "      <th>usefulCount</th>\n",
              "    </tr>\n",
              "  </thead>\n",
              "  <tbody>\n",
              "    <tr>\n",
              "      <th>0</th>\n",
              "      <td>206461</td>\n",
              "      <td>Valsartan</td>\n",
              "      <td>Left Ventricular Dysfunction</td>\n",
              "      <td>\"It has no side effect, I take it in combinati...</td>\n",
              "      <td>9.0</td>\n",
              "      <td>May 20, 2012</td>\n",
              "      <td>27</td>\n",
              "    </tr>\n",
              "    <tr>\n",
              "      <th>1</th>\n",
              "      <td>95260</td>\n",
              "      <td>Guanfacine</td>\n",
              "      <td>ADHD</td>\n",
              "      <td>\"My son is halfway through his fourth week of ...</td>\n",
              "      <td>8.0</td>\n",
              "      <td>April 27, 2010</td>\n",
              "      <td>192</td>\n",
              "    </tr>\n",
              "    <tr>\n",
              "      <th>2</th>\n",
              "      <td>92703</td>\n",
              "      <td>Lybrel</td>\n",
              "      <td>Birth Control</td>\n",
              "      <td>\"I used to take another oral contraceptive, wh...</td>\n",
              "      <td>5.0</td>\n",
              "      <td>December 14, 2009</td>\n",
              "      <td>17</td>\n",
              "    </tr>\n",
              "    <tr>\n",
              "      <th>3</th>\n",
              "      <td>138000</td>\n",
              "      <td>Ortho Evra</td>\n",
              "      <td>Birth Control</td>\n",
              "      <td>\"This is my first time using any form of birth...</td>\n",
              "      <td>8.0</td>\n",
              "      <td>November 3, 2015</td>\n",
              "      <td>10</td>\n",
              "    </tr>\n",
              "    <tr>\n",
              "      <th>4</th>\n",
              "      <td>35696</td>\n",
              "      <td>Buprenorphine / naloxone</td>\n",
              "      <td>Opiate Dependence</td>\n",
              "      <td>\"Suboxone has completely turned my life around...</td>\n",
              "      <td>9.0</td>\n",
              "      <td>November 27, 2016</td>\n",
              "      <td>37</td>\n",
              "    </tr>\n",
              "  </tbody>\n",
              "</table>\n",
              "</div>\n",
              "      <button class=\"colab-df-convert\" onclick=\"convertToInteractive('df-8c25f5f5-8333-4a88-ab20-5a063f178260')\"\n",
              "              title=\"Convert this dataframe to an interactive table.\"\n",
              "              style=\"display:none;\">\n",
              "        \n",
              "  <svg xmlns=\"http://www.w3.org/2000/svg\" height=\"24px\"viewBox=\"0 0 24 24\"\n",
              "       width=\"24px\">\n",
              "    <path d=\"M0 0h24v24H0V0z\" fill=\"none\"/>\n",
              "    <path d=\"M18.56 5.44l.94 2.06.94-2.06 2.06-.94-2.06-.94-.94-2.06-.94 2.06-2.06.94zm-11 1L8.5 8.5l.94-2.06 2.06-.94-2.06-.94L8.5 2.5l-.94 2.06-2.06.94zm10 10l.94 2.06.94-2.06 2.06-.94-2.06-.94-.94-2.06-.94 2.06-2.06.94z\"/><path d=\"M17.41 7.96l-1.37-1.37c-.4-.4-.92-.59-1.43-.59-.52 0-1.04.2-1.43.59L10.3 9.45l-7.72 7.72c-.78.78-.78 2.05 0 2.83L4 21.41c.39.39.9.59 1.41.59.51 0 1.02-.2 1.41-.59l7.78-7.78 2.81-2.81c.8-.78.8-2.07 0-2.86zM5.41 20L4 18.59l7.72-7.72 1.47 1.35L5.41 20z\"/>\n",
              "  </svg>\n",
              "      </button>\n",
              "      \n",
              "  <style>\n",
              "    .colab-df-container {\n",
              "      display:flex;\n",
              "      flex-wrap:wrap;\n",
              "      gap: 12px;\n",
              "    }\n",
              "\n",
              "    .colab-df-convert {\n",
              "      background-color: #E8F0FE;\n",
              "      border: none;\n",
              "      border-radius: 50%;\n",
              "      cursor: pointer;\n",
              "      display: none;\n",
              "      fill: #1967D2;\n",
              "      height: 32px;\n",
              "      padding: 0 0 0 0;\n",
              "      width: 32px;\n",
              "    }\n",
              "\n",
              "    .colab-df-convert:hover {\n",
              "      background-color: #E2EBFA;\n",
              "      box-shadow: 0px 1px 2px rgba(60, 64, 67, 0.3), 0px 1px 3px 1px rgba(60, 64, 67, 0.15);\n",
              "      fill: #174EA6;\n",
              "    }\n",
              "\n",
              "    [theme=dark] .colab-df-convert {\n",
              "      background-color: #3B4455;\n",
              "      fill: #D2E3FC;\n",
              "    }\n",
              "\n",
              "    [theme=dark] .colab-df-convert:hover {\n",
              "      background-color: #434B5C;\n",
              "      box-shadow: 0px 1px 3px 1px rgba(0, 0, 0, 0.15);\n",
              "      filter: drop-shadow(0px 1px 2px rgba(0, 0, 0, 0.3));\n",
              "      fill: #FFFFFF;\n",
              "    }\n",
              "  </style>\n",
              "\n",
              "      <script>\n",
              "        const buttonEl =\n",
              "          document.querySelector('#df-8c25f5f5-8333-4a88-ab20-5a063f178260 button.colab-df-convert');\n",
              "        buttonEl.style.display =\n",
              "          google.colab.kernel.accessAllowed ? 'block' : 'none';\n",
              "\n",
              "        async function convertToInteractive(key) {\n",
              "          const element = document.querySelector('#df-8c25f5f5-8333-4a88-ab20-5a063f178260');\n",
              "          const dataTable =\n",
              "            await google.colab.kernel.invokeFunction('convertToInteractive',\n",
              "                                                     [key], {});\n",
              "          if (!dataTable) return;\n",
              "\n",
              "          const docLinkHtml = 'Like what you see? Visit the ' +\n",
              "            '<a target=\"_blank\" href=https://colab.research.google.com/notebooks/data_table.ipynb>data table notebook</a>'\n",
              "            + ' to learn more about interactive tables.';\n",
              "          element.innerHTML = '';\n",
              "          dataTable['output_type'] = 'display_data';\n",
              "          await google.colab.output.renderOutput(dataTable, element);\n",
              "          const docLink = document.createElement('div');\n",
              "          docLink.innerHTML = docLinkHtml;\n",
              "          element.appendChild(docLink);\n",
              "        }\n",
              "      </script>\n",
              "    </div>\n",
              "  </div>\n",
              "  "
            ]
          },
          "metadata": {},
          "execution_count": 4
        }
      ]
    },
    {
      "cell_type": "markdown",
      "metadata": {
        "id": "bQUXScEkJRaC"
      },
      "source": [
        "#####Validating the test dataframe if the data read properly using head function"
      ]
    },
    {
      "cell_type": "code",
      "metadata": {
        "id": "tAnr3zJJt-4N",
        "colab": {
          "base_uri": "https://localhost:8080/",
          "height": 204
        },
        "outputId": "d97a4e7d-7b57-4de5-e045-1835150ab537"
      },
      "source": [
        "df_test.head()"
      ],
      "execution_count": 5,
      "outputs": [
        {
          "output_type": "execute_result",
          "data": {
            "text/plain": [
              "   Unnamed: 0         drugName                     condition  \\\n",
              "0      163740      Mirtazapine                    Depression   \n",
              "1      206473       Mesalamine  Crohn's Disease, Maintenance   \n",
              "2      159672          Bactrim       Urinary Tract Infection   \n",
              "3       39293         Contrave                   Weight Loss   \n",
              "4       97768  Cyclafem 1 / 35                 Birth Control   \n",
              "\n",
              "                                              review  rating  \\\n",
              "0  \"I&#039;ve tried a few antidepressants over th...    10.0   \n",
              "1  \"My son has Crohn&#039;s disease and has done ...     8.0   \n",
              "2                      \"Quick reduction of symptoms\"     9.0   \n",
              "3  \"Contrave combines drugs that were used for al...     9.0   \n",
              "4  \"I have been on this birth control for one cyc...     9.0   \n",
              "\n",
              "                 date  usefulCount  \n",
              "0   February 28, 2012           22  \n",
              "1        May 17, 2009           17  \n",
              "2  September 29, 2017            3  \n",
              "3       March 5, 2017           35  \n",
              "4    October 22, 2015            4  "
            ],
            "text/html": [
              "\n",
              "  <div id=\"df-edd529ec-2cdb-42b9-9b85-a822ba5c3e37\">\n",
              "    <div class=\"colab-df-container\">\n",
              "      <div>\n",
              "<style scoped>\n",
              "    .dataframe tbody tr th:only-of-type {\n",
              "        vertical-align: middle;\n",
              "    }\n",
              "\n",
              "    .dataframe tbody tr th {\n",
              "        vertical-align: top;\n",
              "    }\n",
              "\n",
              "    .dataframe thead th {\n",
              "        text-align: right;\n",
              "    }\n",
              "</style>\n",
              "<table border=\"1\" class=\"dataframe\">\n",
              "  <thead>\n",
              "    <tr style=\"text-align: right;\">\n",
              "      <th></th>\n",
              "      <th>Unnamed: 0</th>\n",
              "      <th>drugName</th>\n",
              "      <th>condition</th>\n",
              "      <th>review</th>\n",
              "      <th>rating</th>\n",
              "      <th>date</th>\n",
              "      <th>usefulCount</th>\n",
              "    </tr>\n",
              "  </thead>\n",
              "  <tbody>\n",
              "    <tr>\n",
              "      <th>0</th>\n",
              "      <td>163740</td>\n",
              "      <td>Mirtazapine</td>\n",
              "      <td>Depression</td>\n",
              "      <td>\"I&amp;#039;ve tried a few antidepressants over th...</td>\n",
              "      <td>10.0</td>\n",
              "      <td>February 28, 2012</td>\n",
              "      <td>22</td>\n",
              "    </tr>\n",
              "    <tr>\n",
              "      <th>1</th>\n",
              "      <td>206473</td>\n",
              "      <td>Mesalamine</td>\n",
              "      <td>Crohn's Disease, Maintenance</td>\n",
              "      <td>\"My son has Crohn&amp;#039;s disease and has done ...</td>\n",
              "      <td>8.0</td>\n",
              "      <td>May 17, 2009</td>\n",
              "      <td>17</td>\n",
              "    </tr>\n",
              "    <tr>\n",
              "      <th>2</th>\n",
              "      <td>159672</td>\n",
              "      <td>Bactrim</td>\n",
              "      <td>Urinary Tract Infection</td>\n",
              "      <td>\"Quick reduction of symptoms\"</td>\n",
              "      <td>9.0</td>\n",
              "      <td>September 29, 2017</td>\n",
              "      <td>3</td>\n",
              "    </tr>\n",
              "    <tr>\n",
              "      <th>3</th>\n",
              "      <td>39293</td>\n",
              "      <td>Contrave</td>\n",
              "      <td>Weight Loss</td>\n",
              "      <td>\"Contrave combines drugs that were used for al...</td>\n",
              "      <td>9.0</td>\n",
              "      <td>March 5, 2017</td>\n",
              "      <td>35</td>\n",
              "    </tr>\n",
              "    <tr>\n",
              "      <th>4</th>\n",
              "      <td>97768</td>\n",
              "      <td>Cyclafem 1 / 35</td>\n",
              "      <td>Birth Control</td>\n",
              "      <td>\"I have been on this birth control for one cyc...</td>\n",
              "      <td>9.0</td>\n",
              "      <td>October 22, 2015</td>\n",
              "      <td>4</td>\n",
              "    </tr>\n",
              "  </tbody>\n",
              "</table>\n",
              "</div>\n",
              "      <button class=\"colab-df-convert\" onclick=\"convertToInteractive('df-edd529ec-2cdb-42b9-9b85-a822ba5c3e37')\"\n",
              "              title=\"Convert this dataframe to an interactive table.\"\n",
              "              style=\"display:none;\">\n",
              "        \n",
              "  <svg xmlns=\"http://www.w3.org/2000/svg\" height=\"24px\"viewBox=\"0 0 24 24\"\n",
              "       width=\"24px\">\n",
              "    <path d=\"M0 0h24v24H0V0z\" fill=\"none\"/>\n",
              "    <path d=\"M18.56 5.44l.94 2.06.94-2.06 2.06-.94-2.06-.94-.94-2.06-.94 2.06-2.06.94zm-11 1L8.5 8.5l.94-2.06 2.06-.94-2.06-.94L8.5 2.5l-.94 2.06-2.06.94zm10 10l.94 2.06.94-2.06 2.06-.94-2.06-.94-.94-2.06-.94 2.06-2.06.94z\"/><path d=\"M17.41 7.96l-1.37-1.37c-.4-.4-.92-.59-1.43-.59-.52 0-1.04.2-1.43.59L10.3 9.45l-7.72 7.72c-.78.78-.78 2.05 0 2.83L4 21.41c.39.39.9.59 1.41.59.51 0 1.02-.2 1.41-.59l7.78-7.78 2.81-2.81c.8-.78.8-2.07 0-2.86zM5.41 20L4 18.59l7.72-7.72 1.47 1.35L5.41 20z\"/>\n",
              "  </svg>\n",
              "      </button>\n",
              "      \n",
              "  <style>\n",
              "    .colab-df-container {\n",
              "      display:flex;\n",
              "      flex-wrap:wrap;\n",
              "      gap: 12px;\n",
              "    }\n",
              "\n",
              "    .colab-df-convert {\n",
              "      background-color: #E8F0FE;\n",
              "      border: none;\n",
              "      border-radius: 50%;\n",
              "      cursor: pointer;\n",
              "      display: none;\n",
              "      fill: #1967D2;\n",
              "      height: 32px;\n",
              "      padding: 0 0 0 0;\n",
              "      width: 32px;\n",
              "    }\n",
              "\n",
              "    .colab-df-convert:hover {\n",
              "      background-color: #E2EBFA;\n",
              "      box-shadow: 0px 1px 2px rgba(60, 64, 67, 0.3), 0px 1px 3px 1px rgba(60, 64, 67, 0.15);\n",
              "      fill: #174EA6;\n",
              "    }\n",
              "\n",
              "    [theme=dark] .colab-df-convert {\n",
              "      background-color: #3B4455;\n",
              "      fill: #D2E3FC;\n",
              "    }\n",
              "\n",
              "    [theme=dark] .colab-df-convert:hover {\n",
              "      background-color: #434B5C;\n",
              "      box-shadow: 0px 1px 3px 1px rgba(0, 0, 0, 0.15);\n",
              "      filter: drop-shadow(0px 1px 2px rgba(0, 0, 0, 0.3));\n",
              "      fill: #FFFFFF;\n",
              "    }\n",
              "  </style>\n",
              "\n",
              "      <script>\n",
              "        const buttonEl =\n",
              "          document.querySelector('#df-edd529ec-2cdb-42b9-9b85-a822ba5c3e37 button.colab-df-convert');\n",
              "        buttonEl.style.display =\n",
              "          google.colab.kernel.accessAllowed ? 'block' : 'none';\n",
              "\n",
              "        async function convertToInteractive(key) {\n",
              "          const element = document.querySelector('#df-edd529ec-2cdb-42b9-9b85-a822ba5c3e37');\n",
              "          const dataTable =\n",
              "            await google.colab.kernel.invokeFunction('convertToInteractive',\n",
              "                                                     [key], {});\n",
              "          if (!dataTable) return;\n",
              "\n",
              "          const docLinkHtml = 'Like what you see? Visit the ' +\n",
              "            '<a target=\"_blank\" href=https://colab.research.google.com/notebooks/data_table.ipynb>data table notebook</a>'\n",
              "            + ' to learn more about interactive tables.';\n",
              "          element.innerHTML = '';\n",
              "          dataTable['output_type'] = 'display_data';\n",
              "          await google.colab.output.renderOutput(dataTable, element);\n",
              "          const docLink = document.createElement('div');\n",
              "          docLink.innerHTML = docLinkHtml;\n",
              "          element.appendChild(docLink);\n",
              "        }\n",
              "      </script>\n",
              "    </div>\n",
              "  </div>\n",
              "  "
            ]
          },
          "metadata": {},
          "execution_count": 5
        }
      ]
    },
    {
      "cell_type": "markdown",
      "metadata": {
        "id": "CyssR5qWJizd"
      },
      "source": [
        "#####Concatenating both the train and test dataframe for better visualization"
      ]
    },
    {
      "cell_type": "code",
      "metadata": {
        "id": "3ks0YLrduD8P"
      },
      "source": [
        "complete_input_data = pd.concat([df_train, df_test])"
      ],
      "execution_count": 6,
      "outputs": []
    },
    {
      "cell_type": "markdown",
      "metadata": {
        "id": "mhu3K1L8J0T9"
      },
      "source": [
        "#####Checking the shape of concatenating dataframe"
      ]
    },
    {
      "cell_type": "code",
      "metadata": {
        "colab": {
          "base_uri": "https://localhost:8080/"
        },
        "id": "EgflYRSDJwe0",
        "outputId": "c91bad07-e4cb-482d-a953-79d852e52ba9"
      },
      "source": [
        "complete_input_data.shape"
      ],
      "execution_count": 7,
      "outputs": [
        {
          "output_type": "execute_result",
          "data": {
            "text/plain": [
              "(215063, 7)"
            ]
          },
          "metadata": {},
          "execution_count": 7
        }
      ]
    },
    {
      "cell_type": "markdown",
      "source": [
        "#####Using iter() function \n",
        "#####NB. The function helps with large datasets as it is memory-efficient since it does not load the entire dataset into memory at once."
      ],
      "metadata": {
        "id": "YRJiFsI0IyFA"
      }
    },
    {
      "cell_type": "code",
      "source": [
        "drug_iter = iter(complete_input_data.values.tolist())"
      ],
      "metadata": {
        "id": "l0dg4pmiIDFS"
      },
      "execution_count": 8,
      "outputs": []
    },
    {
      "cell_type": "code",
      "source": [
        "# This will print the first two rows of the dataset as lists using next()\n",
        "row_1 = next(drug_iter)\n",
        "row_2 = next(drug_iter)\n",
        "\n",
        "print(row_1)\n",
        "print(row_2)\n"
      ],
      "metadata": {
        "colab": {
          "base_uri": "https://localhost:8080/"
        },
        "id": "tAbZlxxfIKq-",
        "outputId": "ba20d517-9b7c-450f-89d5-217ffa50ee87"
      },
      "execution_count": 9,
      "outputs": [
        {
          "output_type": "stream",
          "name": "stdout",
          "text": [
            "[206461, 'Valsartan', 'Left Ventricular Dysfunction', '\"It has no side effect, I take it in combination of Bystolic 5 Mg and Fish Oil\"', 9.0, 'May 20, 2012', 27]\n",
            "[95260, 'Guanfacine', 'ADHD', '\"My son is halfway through his fourth week of Intuniv. We became concerned when he began this last week, when he started taking the highest dose he will be on. For two days, he could hardly get out of bed, was very cranky, and slept for nearly 8 hours on a drive home from school vacation (very unusual for him.) I called his doctor on Monday morning and she said to stick it out a few days. See how he did at school, and with getting up in the morning. The last two days have been problem free. He is MUCH more agreeable than ever. He is less emotional (a good thing), less cranky. He is remembering all the things he should. Overall his behavior is better. \\r\\nWe have tried many different medications and so far this is the most effective.\"', 8.0, 'April 27, 2010', 192]\n"
          ]
        }
      ]
    },
    {
      "cell_type": "markdown",
      "metadata": {
        "id": "y6P7a3NbLUNN"
      },
      "source": [
        "#####Checking the sample 5 records using head"
      ]
    },
    {
      "cell_type": "code",
      "metadata": {
        "id": "M5Vgc5N0vK1B",
        "colab": {
          "base_uri": "https://localhost:8080/",
          "height": 204
        },
        "outputId": "ca70c137-f9e2-4994-88d0-b6cb2c47dc19"
      },
      "source": [
        "# checking the sample of new dataset\n",
        "\n",
        "complete_input_data.head(5)"
      ],
      "execution_count": 10,
      "outputs": [
        {
          "output_type": "execute_result",
          "data": {
            "text/plain": [
              "   Unnamed: 0                  drugName                     condition  \\\n",
              "0      206461                 Valsartan  Left Ventricular Dysfunction   \n",
              "1       95260                Guanfacine                          ADHD   \n",
              "2       92703                    Lybrel                 Birth Control   \n",
              "3      138000                Ortho Evra                 Birth Control   \n",
              "4       35696  Buprenorphine / naloxone             Opiate Dependence   \n",
              "\n",
              "                                              review  rating  \\\n",
              "0  \"It has no side effect, I take it in combinati...     9.0   \n",
              "1  \"My son is halfway through his fourth week of ...     8.0   \n",
              "2  \"I used to take another oral contraceptive, wh...     5.0   \n",
              "3  \"This is my first time using any form of birth...     8.0   \n",
              "4  \"Suboxone has completely turned my life around...     9.0   \n",
              "\n",
              "                date  usefulCount  \n",
              "0       May 20, 2012           27  \n",
              "1     April 27, 2010          192  \n",
              "2  December 14, 2009           17  \n",
              "3   November 3, 2015           10  \n",
              "4  November 27, 2016           37  "
            ],
            "text/html": [
              "\n",
              "  <div id=\"df-7af157cc-3cf7-4d33-bdd4-b0d4f0c27b17\">\n",
              "    <div class=\"colab-df-container\">\n",
              "      <div>\n",
              "<style scoped>\n",
              "    .dataframe tbody tr th:only-of-type {\n",
              "        vertical-align: middle;\n",
              "    }\n",
              "\n",
              "    .dataframe tbody tr th {\n",
              "        vertical-align: top;\n",
              "    }\n",
              "\n",
              "    .dataframe thead th {\n",
              "        text-align: right;\n",
              "    }\n",
              "</style>\n",
              "<table border=\"1\" class=\"dataframe\">\n",
              "  <thead>\n",
              "    <tr style=\"text-align: right;\">\n",
              "      <th></th>\n",
              "      <th>Unnamed: 0</th>\n",
              "      <th>drugName</th>\n",
              "      <th>condition</th>\n",
              "      <th>review</th>\n",
              "      <th>rating</th>\n",
              "      <th>date</th>\n",
              "      <th>usefulCount</th>\n",
              "    </tr>\n",
              "  </thead>\n",
              "  <tbody>\n",
              "    <tr>\n",
              "      <th>0</th>\n",
              "      <td>206461</td>\n",
              "      <td>Valsartan</td>\n",
              "      <td>Left Ventricular Dysfunction</td>\n",
              "      <td>\"It has no side effect, I take it in combinati...</td>\n",
              "      <td>9.0</td>\n",
              "      <td>May 20, 2012</td>\n",
              "      <td>27</td>\n",
              "    </tr>\n",
              "    <tr>\n",
              "      <th>1</th>\n",
              "      <td>95260</td>\n",
              "      <td>Guanfacine</td>\n",
              "      <td>ADHD</td>\n",
              "      <td>\"My son is halfway through his fourth week of ...</td>\n",
              "      <td>8.0</td>\n",
              "      <td>April 27, 2010</td>\n",
              "      <td>192</td>\n",
              "    </tr>\n",
              "    <tr>\n",
              "      <th>2</th>\n",
              "      <td>92703</td>\n",
              "      <td>Lybrel</td>\n",
              "      <td>Birth Control</td>\n",
              "      <td>\"I used to take another oral contraceptive, wh...</td>\n",
              "      <td>5.0</td>\n",
              "      <td>December 14, 2009</td>\n",
              "      <td>17</td>\n",
              "    </tr>\n",
              "    <tr>\n",
              "      <th>3</th>\n",
              "      <td>138000</td>\n",
              "      <td>Ortho Evra</td>\n",
              "      <td>Birth Control</td>\n",
              "      <td>\"This is my first time using any form of birth...</td>\n",
              "      <td>8.0</td>\n",
              "      <td>November 3, 2015</td>\n",
              "      <td>10</td>\n",
              "    </tr>\n",
              "    <tr>\n",
              "      <th>4</th>\n",
              "      <td>35696</td>\n",
              "      <td>Buprenorphine / naloxone</td>\n",
              "      <td>Opiate Dependence</td>\n",
              "      <td>\"Suboxone has completely turned my life around...</td>\n",
              "      <td>9.0</td>\n",
              "      <td>November 27, 2016</td>\n",
              "      <td>37</td>\n",
              "    </tr>\n",
              "  </tbody>\n",
              "</table>\n",
              "</div>\n",
              "      <button class=\"colab-df-convert\" onclick=\"convertToInteractive('df-7af157cc-3cf7-4d33-bdd4-b0d4f0c27b17')\"\n",
              "              title=\"Convert this dataframe to an interactive table.\"\n",
              "              style=\"display:none;\">\n",
              "        \n",
              "  <svg xmlns=\"http://www.w3.org/2000/svg\" height=\"24px\"viewBox=\"0 0 24 24\"\n",
              "       width=\"24px\">\n",
              "    <path d=\"M0 0h24v24H0V0z\" fill=\"none\"/>\n",
              "    <path d=\"M18.56 5.44l.94 2.06.94-2.06 2.06-.94-2.06-.94-.94-2.06-.94 2.06-2.06.94zm-11 1L8.5 8.5l.94-2.06 2.06-.94-2.06-.94L8.5 2.5l-.94 2.06-2.06.94zm10 10l.94 2.06.94-2.06 2.06-.94-2.06-.94-.94-2.06-.94 2.06-2.06.94z\"/><path d=\"M17.41 7.96l-1.37-1.37c-.4-.4-.92-.59-1.43-.59-.52 0-1.04.2-1.43.59L10.3 9.45l-7.72 7.72c-.78.78-.78 2.05 0 2.83L4 21.41c.39.39.9.59 1.41.59.51 0 1.02-.2 1.41-.59l7.78-7.78 2.81-2.81c.8-.78.8-2.07 0-2.86zM5.41 20L4 18.59l7.72-7.72 1.47 1.35L5.41 20z\"/>\n",
              "  </svg>\n",
              "      </button>\n",
              "      \n",
              "  <style>\n",
              "    .colab-df-container {\n",
              "      display:flex;\n",
              "      flex-wrap:wrap;\n",
              "      gap: 12px;\n",
              "    }\n",
              "\n",
              "    .colab-df-convert {\n",
              "      background-color: #E8F0FE;\n",
              "      border: none;\n",
              "      border-radius: 50%;\n",
              "      cursor: pointer;\n",
              "      display: none;\n",
              "      fill: #1967D2;\n",
              "      height: 32px;\n",
              "      padding: 0 0 0 0;\n",
              "      width: 32px;\n",
              "    }\n",
              "\n",
              "    .colab-df-convert:hover {\n",
              "      background-color: #E2EBFA;\n",
              "      box-shadow: 0px 1px 2px rgba(60, 64, 67, 0.3), 0px 1px 3px 1px rgba(60, 64, 67, 0.15);\n",
              "      fill: #174EA6;\n",
              "    }\n",
              "\n",
              "    [theme=dark] .colab-df-convert {\n",
              "      background-color: #3B4455;\n",
              "      fill: #D2E3FC;\n",
              "    }\n",
              "\n",
              "    [theme=dark] .colab-df-convert:hover {\n",
              "      background-color: #434B5C;\n",
              "      box-shadow: 0px 1px 3px 1px rgba(0, 0, 0, 0.15);\n",
              "      filter: drop-shadow(0px 1px 2px rgba(0, 0, 0, 0.3));\n",
              "      fill: #FFFFFF;\n",
              "    }\n",
              "  </style>\n",
              "\n",
              "      <script>\n",
              "        const buttonEl =\n",
              "          document.querySelector('#df-7af157cc-3cf7-4d33-bdd4-b0d4f0c27b17 button.colab-df-convert');\n",
              "        buttonEl.style.display =\n",
              "          google.colab.kernel.accessAllowed ? 'block' : 'none';\n",
              "\n",
              "        async function convertToInteractive(key) {\n",
              "          const element = document.querySelector('#df-7af157cc-3cf7-4d33-bdd4-b0d4f0c27b17');\n",
              "          const dataTable =\n",
              "            await google.colab.kernel.invokeFunction('convertToInteractive',\n",
              "                                                     [key], {});\n",
              "          if (!dataTable) return;\n",
              "\n",
              "          const docLinkHtml = 'Like what you see? Visit the ' +\n",
              "            '<a target=\"_blank\" href=https://colab.research.google.com/notebooks/data_table.ipynb>data table notebook</a>'\n",
              "            + ' to learn more about interactive tables.';\n",
              "          element.innerHTML = '';\n",
              "          dataTable['output_type'] = 'display_data';\n",
              "          await google.colab.output.renderOutput(dataTable, element);\n",
              "          const docLink = document.createElement('div');\n",
              "          docLink.innerHTML = docLinkHtml;\n",
              "          element.appendChild(docLink);\n",
              "        }\n",
              "      </script>\n",
              "    </div>\n",
              "  </div>\n",
              "  "
            ]
          },
          "metadata": {},
          "execution_count": 10
        }
      ]
    },
    {
      "cell_type": "markdown",
      "metadata": {
        "id": "fFhjxmqjLdrf"
      },
      "source": [
        "#####Describing the input concetnated dataset"
      ]
    },
    {
      "cell_type": "code",
      "metadata": {
        "id": "pfTfO8yLvRgY",
        "colab": {
          "base_uri": "https://localhost:8080/",
          "height": 297
        },
        "outputId": "32fe07d3-a808-447e-f35a-498f0b302fde"
      },
      "source": [
        "complete_input_data.describe()"
      ],
      "execution_count": 11,
      "outputs": [
        {
          "output_type": "execute_result",
          "data": {
            "text/plain": [
              "          Unnamed: 0         rating    usefulCount\n",
              "count  215063.000000  215063.000000  215063.000000\n",
              "mean   116039.364814       6.990008      28.001004\n",
              "std     67007.913366       3.275554      36.346069\n",
              "min         0.000000       1.000000       0.000000\n",
              "25%     58115.500000       5.000000       6.000000\n",
              "50%    115867.000000       8.000000      16.000000\n",
              "75%    173963.500000      10.000000      36.000000\n",
              "max    232291.000000      10.000000    1291.000000"
            ],
            "text/html": [
              "\n",
              "  <div id=\"df-4cb05b0c-0ba7-4100-85c9-2404271af51f\">\n",
              "    <div class=\"colab-df-container\">\n",
              "      <div>\n",
              "<style scoped>\n",
              "    .dataframe tbody tr th:only-of-type {\n",
              "        vertical-align: middle;\n",
              "    }\n",
              "\n",
              "    .dataframe tbody tr th {\n",
              "        vertical-align: top;\n",
              "    }\n",
              "\n",
              "    .dataframe thead th {\n",
              "        text-align: right;\n",
              "    }\n",
              "</style>\n",
              "<table border=\"1\" class=\"dataframe\">\n",
              "  <thead>\n",
              "    <tr style=\"text-align: right;\">\n",
              "      <th></th>\n",
              "      <th>Unnamed: 0</th>\n",
              "      <th>rating</th>\n",
              "      <th>usefulCount</th>\n",
              "    </tr>\n",
              "  </thead>\n",
              "  <tbody>\n",
              "    <tr>\n",
              "      <th>count</th>\n",
              "      <td>215063.000000</td>\n",
              "      <td>215063.000000</td>\n",
              "      <td>215063.000000</td>\n",
              "    </tr>\n",
              "    <tr>\n",
              "      <th>mean</th>\n",
              "      <td>116039.364814</td>\n",
              "      <td>6.990008</td>\n",
              "      <td>28.001004</td>\n",
              "    </tr>\n",
              "    <tr>\n",
              "      <th>std</th>\n",
              "      <td>67007.913366</td>\n",
              "      <td>3.275554</td>\n",
              "      <td>36.346069</td>\n",
              "    </tr>\n",
              "    <tr>\n",
              "      <th>min</th>\n",
              "      <td>0.000000</td>\n",
              "      <td>1.000000</td>\n",
              "      <td>0.000000</td>\n",
              "    </tr>\n",
              "    <tr>\n",
              "      <th>25%</th>\n",
              "      <td>58115.500000</td>\n",
              "      <td>5.000000</td>\n",
              "      <td>6.000000</td>\n",
              "    </tr>\n",
              "    <tr>\n",
              "      <th>50%</th>\n",
              "      <td>115867.000000</td>\n",
              "      <td>8.000000</td>\n",
              "      <td>16.000000</td>\n",
              "    </tr>\n",
              "    <tr>\n",
              "      <th>75%</th>\n",
              "      <td>173963.500000</td>\n",
              "      <td>10.000000</td>\n",
              "      <td>36.000000</td>\n",
              "    </tr>\n",
              "    <tr>\n",
              "      <th>max</th>\n",
              "      <td>232291.000000</td>\n",
              "      <td>10.000000</td>\n",
              "      <td>1291.000000</td>\n",
              "    </tr>\n",
              "  </tbody>\n",
              "</table>\n",
              "</div>\n",
              "      <button class=\"colab-df-convert\" onclick=\"convertToInteractive('df-4cb05b0c-0ba7-4100-85c9-2404271af51f')\"\n",
              "              title=\"Convert this dataframe to an interactive table.\"\n",
              "              style=\"display:none;\">\n",
              "        \n",
              "  <svg xmlns=\"http://www.w3.org/2000/svg\" height=\"24px\"viewBox=\"0 0 24 24\"\n",
              "       width=\"24px\">\n",
              "    <path d=\"M0 0h24v24H0V0z\" fill=\"none\"/>\n",
              "    <path d=\"M18.56 5.44l.94 2.06.94-2.06 2.06-.94-2.06-.94-.94-2.06-.94 2.06-2.06.94zm-11 1L8.5 8.5l.94-2.06 2.06-.94-2.06-.94L8.5 2.5l-.94 2.06-2.06.94zm10 10l.94 2.06.94-2.06 2.06-.94-2.06-.94-.94-2.06-.94 2.06-2.06.94z\"/><path d=\"M17.41 7.96l-1.37-1.37c-.4-.4-.92-.59-1.43-.59-.52 0-1.04.2-1.43.59L10.3 9.45l-7.72 7.72c-.78.78-.78 2.05 0 2.83L4 21.41c.39.39.9.59 1.41.59.51 0 1.02-.2 1.41-.59l7.78-7.78 2.81-2.81c.8-.78.8-2.07 0-2.86zM5.41 20L4 18.59l7.72-7.72 1.47 1.35L5.41 20z\"/>\n",
              "  </svg>\n",
              "      </button>\n",
              "      \n",
              "  <style>\n",
              "    .colab-df-container {\n",
              "      display:flex;\n",
              "      flex-wrap:wrap;\n",
              "      gap: 12px;\n",
              "    }\n",
              "\n",
              "    .colab-df-convert {\n",
              "      background-color: #E8F0FE;\n",
              "      border: none;\n",
              "      border-radius: 50%;\n",
              "      cursor: pointer;\n",
              "      display: none;\n",
              "      fill: #1967D2;\n",
              "      height: 32px;\n",
              "      padding: 0 0 0 0;\n",
              "      width: 32px;\n",
              "    }\n",
              "\n",
              "    .colab-df-convert:hover {\n",
              "      background-color: #E2EBFA;\n",
              "      box-shadow: 0px 1px 2px rgba(60, 64, 67, 0.3), 0px 1px 3px 1px rgba(60, 64, 67, 0.15);\n",
              "      fill: #174EA6;\n",
              "    }\n",
              "\n",
              "    [theme=dark] .colab-df-convert {\n",
              "      background-color: #3B4455;\n",
              "      fill: #D2E3FC;\n",
              "    }\n",
              "\n",
              "    [theme=dark] .colab-df-convert:hover {\n",
              "      background-color: #434B5C;\n",
              "      box-shadow: 0px 1px 3px 1px rgba(0, 0, 0, 0.15);\n",
              "      filter: drop-shadow(0px 1px 2px rgba(0, 0, 0, 0.3));\n",
              "      fill: #FFFFFF;\n",
              "    }\n",
              "  </style>\n",
              "\n",
              "      <script>\n",
              "        const buttonEl =\n",
              "          document.querySelector('#df-4cb05b0c-0ba7-4100-85c9-2404271af51f button.colab-df-convert');\n",
              "        buttonEl.style.display =\n",
              "          google.colab.kernel.accessAllowed ? 'block' : 'none';\n",
              "\n",
              "        async function convertToInteractive(key) {\n",
              "          const element = document.querySelector('#df-4cb05b0c-0ba7-4100-85c9-2404271af51f');\n",
              "          const dataTable =\n",
              "            await google.colab.kernel.invokeFunction('convertToInteractive',\n",
              "                                                     [key], {});\n",
              "          if (!dataTable) return;\n",
              "\n",
              "          const docLinkHtml = 'Like what you see? Visit the ' +\n",
              "            '<a target=\"_blank\" href=https://colab.research.google.com/notebooks/data_table.ipynb>data table notebook</a>'\n",
              "            + ' to learn more about interactive tables.';\n",
              "          element.innerHTML = '';\n",
              "          dataTable['output_type'] = 'display_data';\n",
              "          await google.colab.output.renderOutput(dataTable, element);\n",
              "          const docLink = document.createElement('div');\n",
              "          docLink.innerHTML = docLinkHtml;\n",
              "          element.appendChild(docLink);\n",
              "        }\n",
              "      </script>\n",
              "    </div>\n",
              "  </div>\n",
              "  "
            ]
          },
          "metadata": {},
          "execution_count": 11
        }
      ]
    },
    {
      "cell_type": "markdown",
      "metadata": {
        "id": "TFfJyKHvLnF-"
      },
      "source": [
        "#####Checking the datatype of the fields of concatenating dataframe"
      ]
    },
    {
      "cell_type": "code",
      "metadata": {
        "id": "YgnCkBQEw-bA",
        "colab": {
          "base_uri": "https://localhost:8080/"
        },
        "outputId": "fa768f72-193a-4c81-8c59-18f7f2d853b4"
      },
      "source": [
        "complete_input_data.info()"
      ],
      "execution_count": 12,
      "outputs": [
        {
          "output_type": "stream",
          "name": "stdout",
          "text": [
            "<class 'pandas.core.frame.DataFrame'>\n",
            "Int64Index: 215063 entries, 0 to 53765\n",
            "Data columns (total 7 columns):\n",
            " #   Column       Non-Null Count   Dtype  \n",
            "---  ------       --------------   -----  \n",
            " 0   Unnamed: 0   215063 non-null  int64  \n",
            " 1   drugName     215063 non-null  object \n",
            " 2   condition    213869 non-null  object \n",
            " 3   review       215063 non-null  object \n",
            " 4   rating       215063 non-null  float64\n",
            " 5   date         215063 non-null  object \n",
            " 6   usefulCount  215063 non-null  int64  \n",
            "dtypes: float64(1), int64(2), object(4)\n",
            "memory usage: 13.1+ MB\n"
          ]
        }
      ]
    },
    {
      "cell_type": "markdown",
      "metadata": {
        "id": "iJEJDCV8LzEU"
      },
      "source": [
        "#####Validating if the input datasets has null"
      ]
    },
    {
      "cell_type": "code",
      "metadata": {
        "id": "OyxVmoLSxE-b",
        "colab": {
          "base_uri": "https://localhost:8080/"
        },
        "outputId": "d66c4ce8-8257-4cc0-9ff3-2297c0b52845"
      },
      "source": [
        "complete_input_data.isnull().any()"
      ],
      "execution_count": 13,
      "outputs": [
        {
          "output_type": "execute_result",
          "data": {
            "text/plain": [
              "Unnamed: 0     False\n",
              "drugName       False\n",
              "condition       True\n",
              "review         False\n",
              "rating         False\n",
              "date           False\n",
              "usefulCount    False\n",
              "dtype: bool"
            ]
          },
          "metadata": {},
          "execution_count": 13
        }
      ]
    },
    {
      "cell_type": "markdown",
      "metadata": {
        "id": "DQKbiRj-L6pA"
      },
      "source": [
        "#####Perform feature eng step to convert the rating to polarities, positive (1) and negative(0)"
      ]
    },
    {
      "cell_type": "code",
      "metadata": {
        "id": "tzyF23PkqNqV",
        "colab": {
          "base_uri": "https://localhost:8080/"
        },
        "outputId": "3176e24a-6a35-4670-f6a4-57fb832840b6"
      },
      "source": [
        "complete_input_data.loc[(complete_input_data['rating'] >= 7), 'Review_Sentiment'] = 1\n",
        "complete_input_data.loc[(complete_input_data['rating'] < 7), 'Review_Sentiment'] = 0\n",
        "\n",
        "complete_input_data['Review_Sentiment'].value_counts()"
      ],
      "execution_count": 14,
      "outputs": [
        {
          "output_type": "execute_result",
          "data": {
            "text/plain": [
              "1.0    142306\n",
              "0.0     72757\n",
              "Name: Review_Sentiment, dtype: int64"
            ]
          },
          "metadata": {},
          "execution_count": 14
        }
      ]
    },
    {
      "cell_type": "markdown",
      "metadata": {
        "id": "XgKtOd9vMiQc"
      },
      "source": [
        "#####Checking the dataframe for nulls"
      ]
    },
    {
      "cell_type": "code",
      "metadata": {
        "id": "pwL0iuyno2D3",
        "colab": {
          "base_uri": "https://localhost:8080/"
        },
        "outputId": "bd935657-25c7-4348-94ef-8db95d03b2c4"
      },
      "source": [
        "complete_input_data['condition'].isnull().sum()"
      ],
      "execution_count": 15,
      "outputs": [
        {
          "output_type": "execute_result",
          "data": {
            "text/plain": [
              "1194"
            ]
          },
          "metadata": {},
          "execution_count": 15
        }
      ]
    },
    {
      "cell_type": "markdown",
      "metadata": {
        "id": "DkNNf5sdMntT"
      },
      "source": [
        "#####Removing the records with nulls so the model fitting does not have issues"
      ]
    },
    {
      "cell_type": "code",
      "metadata": {
        "id": "RhKdQzQXpAe2"
      },
      "source": [
        "complete_input_data = complete_input_data.dropna(axis = 0)"
      ],
      "execution_count": 16,
      "outputs": []
    },
    {
      "cell_type": "markdown",
      "source": [
        "##### Clean up text with RegEx"
      ],
      "metadata": {
        "id": "spIPcpUTmXWh"
      }
    },
    {
      "cell_type": "code",
      "source": [
        "# Clean up text with RegEx\n",
        "pd.set_option('display.width', 1000)\n",
        "rx_pat = r\"(\\\\r)|(\\\\n)|(\\\\t)|(\\\\f)|(\\.)|(\\;)|(\\:)|(\\!)|(\\')|(\\?)|(\\,)|(\\\")|(\\()|(\\))|(\\[)|(\\])|(&#039;)|(\\d\\s)|(\\d)|(\\/)\"\n",
        "#rx_pat_wSpace = r\"(\\-)|(\\\\)|(\\s{2,})\"\n",
        "    \n",
        "complete_input_data['review'].replace(regex=True,inplace=True,to_replace=rx_pat, value=r'')\n",
        "#df_main['review'].replace(regex=True,inplace=True,to_replace=rx_pat_wSpace, value=r' ')\n",
        "complete_input_data.review.head(5)"
      ],
      "metadata": {
        "colab": {
          "base_uri": "https://localhost:8080/"
        },
        "id": "cc-kfq2CmZ1H",
        "outputId": "d3e37d76-04da-4dfc-b633-62673de4387f"
      },
      "execution_count": 17,
      "outputs": [
        {
          "output_type": "execute_result",
          "data": {
            "text/plain": [
              "0    It has no side effect I take it in combination...\n",
              "1    My son is halfway through his fourth week of I...\n",
              "2    I used to take another oral contraceptive whic...\n",
              "3    This is my first time using any form of birth ...\n",
              "4    Suboxone has completely turned my life around ...\n",
              "Name: review, dtype: object"
            ]
          },
          "metadata": {},
          "execution_count": 17
        }
      ]
    },
    {
      "cell_type": "markdown",
      "metadata": {
        "id": "I19a_9qoVEDO"
      },
      "source": [
        "#####Performing the step to remove stopwords"
      ]
    },
    {
      "cell_type": "code",
      "metadata": {
        "id": "-GHICMx7qEJ9"
      },
      "source": [
        "# Performing the step to remove stopwords..This will be used by Snowball Stemmer\n",
        "\n",
        "stops = set(stopwords.words('english'))\n",
        "\n",
        "not_stop = [\"aren't\",\"couldn't\",\"didn't\",\"doesn't\",\"don't\",\"hadn't\",\"hasn't\",\"haven't\",\"isn't\",\"mightn't\",\n",
        "            \"mustn't\",\"needn't\",\"no\",\"nor\",\"not\",\"shan't\",\"shouldn't\",\"wasn't\",\"weren't\",\"wouldn't\"]\n",
        "for i in not_stop:\n",
        "    stops.remove(i)"
      ],
      "execution_count": 18,
      "outputs": []
    },
    {
      "cell_type": "markdown",
      "metadata": {
        "id": "_4CNwoFIV3lo"
      },
      "source": [
        "#####Checking the columns of the input dataframe using columns command"
      ]
    },
    {
      "cell_type": "code",
      "metadata": {
        "id": "4OmSSD3eDcaU",
        "colab": {
          "base_uri": "https://localhost:8080/"
        },
        "outputId": "a1d30066-6563-411c-db57-7b02c9e1ac8d"
      },
      "source": [
        "#Checking the columns of the input dataframe using columns command\n",
        "complete_input_data.columns"
      ],
      "execution_count": 19,
      "outputs": [
        {
          "output_type": "execute_result",
          "data": {
            "text/plain": [
              "Index(['Unnamed: 0', 'drugName', 'condition', 'review', 'rating', 'date', 'usefulCount', 'Review_Sentiment'], dtype='object')"
            ]
          },
          "metadata": {},
          "execution_count": 19
        }
      ]
    },
    {
      "cell_type": "markdown",
      "metadata": {
        "id": "U_wJTppJWJiD"
      },
      "source": [
        "#####Checking the shape of the input dataframe"
      ]
    },
    {
      "cell_type": "code",
      "metadata": {
        "id": "fTlgC6DbH_IK",
        "colab": {
          "base_uri": "https://localhost:8080/"
        },
        "outputId": "63e6aa24-d969-4f7b-de22-3ec841a3b02a"
      },
      "source": [
        "#Checking the shape of the input dataframe\n",
        "complete_input_data.shape"
      ],
      "execution_count": 20,
      "outputs": [
        {
          "output_type": "execute_result",
          "data": {
            "text/plain": [
              "(213869, 8)"
            ]
          },
          "metadata": {},
          "execution_count": 20
        }
      ]
    },
    {
      "cell_type": "markdown",
      "metadata": {
        "id": "3Sp4zwMCWRBH"
      },
      "source": [
        "#####Inline function to perform Snowball stemmer"
      ]
    },
    {
      "cell_type": "code",
      "metadata": {
        "id": "kW-oT5NVr1mR"
      },
      "source": [
        "#Inline function to perform Snowball stemmer\n",
        "stemmer = SnowballStemmer('english')\n",
        "\n",
        "def words_review(base_review):\n",
        "    # This step deletes HTML\n",
        "    base_review_text = BeautifulSoup(base_review, 'html.parser').get_text()\n",
        "    # This step makes a space\n",
        "    just_letters = re.sub('[^a-zA-Z]', ' ', base_review_text)\n",
        "    # This step is for lower letters\n",
        "    words = just_letters.lower().split()\n",
        "    # This step is for Stopwords \n",
        "    relevant_words = [w for w in words if not w in stops]\n",
        "    # This step performs stemming\n",
        "    stem_words = [stemmer.stem(w) for w in relevant_words]\n",
        "    # This step perform the function to join\n",
        "    return( ' '.join(stem_words))"
      ],
      "execution_count": 21,
      "outputs": []
    },
    {
      "cell_type": "code",
      "metadata": {
        "id": "sn77zQhDueUH",
        "colab": {
          "base_uri": "https://localhost:8080/"
        },
        "outputId": "6220d3a3-5780-43e3-f154-cb5af1d9b583"
      },
      "source": [
        "#Each review is passed to the inline stemming function for cleaning\n",
        "%time complete_input_data['clean_review'] = complete_input_data['review'].apply(words_review)"
      ],
      "execution_count": 22,
      "outputs": [
        {
          "output_type": "stream",
          "name": "stdout",
          "text": [
            "CPU times: user 2min 12s, sys: 1.14 s, total: 2min 14s\n",
            "Wall time: 2min 13s\n"
          ]
        }
      ]
    },
    {
      "cell_type": "markdown",
      "metadata": {
        "id": "paxddyvzYR6Q"
      },
      "source": [
        "#### Check the datatypes of the dataframe after adding the field clean_review"
      ]
    },
    {
      "cell_type": "code",
      "metadata": {
        "id": "MCZLjP07YIND",
        "colab": {
          "base_uri": "https://localhost:8080/"
        },
        "outputId": "59ec639f-0c7e-436f-ab31-2736b4869e00"
      },
      "source": [
        "#Check the datatypes of the dataframe after adding the field clean_review\n",
        "complete_input_data.dtypes"
      ],
      "execution_count": 23,
      "outputs": [
        {
          "output_type": "execute_result",
          "data": {
            "text/plain": [
              "Unnamed: 0            int64\n",
              "drugName             object\n",
              "condition            object\n",
              "review               object\n",
              "rating              float64\n",
              "date                 object\n",
              "usefulCount           int64\n",
              "Review_Sentiment    float64\n",
              "clean_review         object\n",
              "dtype: object"
            ]
          },
          "metadata": {},
          "execution_count": 23
        }
      ]
    },
    {
      "cell_type": "markdown",
      "metadata": {
        "id": "Bv8A-tn0YfIK"
      },
      "source": [
        "####Describe the dataframe"
      ]
    },
    {
      "cell_type": "code",
      "metadata": {
        "colab": {
          "base_uri": "https://localhost:8080/"
        },
        "id": "i5vwlOTkyp2q",
        "outputId": "25674261-43e5-4697-f20f-f865827df0f1"
      },
      "source": [
        "#Describe the dataframe\n",
        "complete_input_data.describe"
      ],
      "execution_count": 24,
      "outputs": [
        {
          "output_type": "execute_result",
          "data": {
            "text/plain": [
              "<bound method NDFrame.describe of        Unnamed: 0                  drugName                     condition                                             review  rating                date  usefulCount  Review_Sentiment                                       clean_review\n",
              "0          206461                 Valsartan  Left Ventricular Dysfunction  It has no side effect I take it in combination...     9.0        May 20, 2012           27               1.0      no side effect take combin bystol mg fish oil\n",
              "1           95260                Guanfacine                          ADHD  My son is halfway through his fourth week of I...     8.0      April 27, 2010          192               1.0  son halfway fourth week intuniv becam concern ...\n",
              "2           92703                    Lybrel                 Birth Control  I used to take another oral contraceptive whic...     5.0   December 14, 2009           17               0.0  use take anoth oral contracept pill cycl happi...\n",
              "3          138000                Ortho Evra                 Birth Control  This is my first time using any form of birth ...     8.0    November 3, 2015           10               1.0  first time use form birth control im glad went...\n",
              "4           35696  Buprenorphine / naloxone             Opiate Dependence  Suboxone has completely turned my life around ...     9.0   November 27, 2016           37               1.0  suboxon complet turn life around feel healthie...\n",
              "...           ...                       ...                           ...                                                ...     ...                 ...          ...               ...                                                ...\n",
              "53761      159999                 Tamoxifen     Breast Cancer, Prevention  I have taken Tamoxifen for years Side effects ...    10.0  September 13, 2014           43               1.0  taken tamoxifen year side effect sever sweat d...\n",
              "53762      140714              Escitalopram                       Anxiety  Ive been taking Lexapro escitaploprgram since ...     9.0     October 8, 2016           11               1.0  ive take lexapro escitaploprgram sinc februari...\n",
              "53763      130945            Levonorgestrel                 Birth Control  Im married years old and I have no kids Taking...     8.0   November 15, 2010            7               1.0  im marri year old no kid take pill hassl decid...\n",
              "53764       47656                Tapentadol                          Pain  I was prescribed Nucynta for severe neckshould...     1.0   November 28, 2011           20               0.0  prescrib nucynta sever neckshould pain take mg...\n",
              "53765      113712                 Arthrotec                      Sciatica                                           It works     9.0  September 13, 2009           46               1.0                                               work\n",
              "\n",
              "[213869 rows x 9 columns]>"
            ]
          },
          "metadata": {},
          "execution_count": 24
        }
      ]
    },
    {
      "cell_type": "markdown",
      "metadata": {
        "id": "7ohA2ax0Y6HH"
      },
      "source": [
        "#### Performing the step to split the input dataframe to test and train"
      ]
    },
    {
      "cell_type": "code",
      "metadata": {
        "id": "s4DgcPN7Y6gi",
        "colab": {
          "base_uri": "https://localhost:8080/"
        },
        "outputId": "3b32810e-ef90-4222-8ab1-0f6481887cd7"
      },
      "source": [
        "# Performing the step to split the input dataframe to test and train\n",
        "\n",
        "df_train, df_test, y_train, y_test = train_test_split(complete_input_data, complete_input_data['Review_Sentiment'], test_size = 0.25, random_state = 0)\n",
        "\n",
        "# checking the shape \n",
        "print(\"Shape of train:\", df_train.shape)\n",
        "print(\"Shape of test: \", df_test.shape)\n",
        "\n",
        "print(\"Shape of train:\", y_train.shape)\n",
        "print(\"Shape of test: \", y_test.shape)"
      ],
      "execution_count": 25,
      "outputs": [
        {
          "output_type": "stream",
          "name": "stdout",
          "text": [
            "Shape of train: (160401, 9)\n",
            "Shape of test:  (53468, 9)\n",
            "Shape of train: (160401,)\n",
            "Shape of test:  (53468,)\n"
          ]
        }
      ]
    },
    {
      "cell_type": "markdown",
      "metadata": {
        "id": "bo1Ymv2rZNlF"
      },
      "source": [
        "#### Converting the type to integer"
      ]
    },
    {
      "cell_type": "code",
      "metadata": {
        "colab": {
          "base_uri": "https://localhost:8080/"
        },
        "id": "rU9kLPTLnPfp",
        "outputId": "9d7ceee2-acc4-4f48-a099-50e88670905f"
      },
      "source": [
        "# Converting the type to integer\n",
        "y_train.astype(int)"
      ],
      "execution_count": 26,
      "outputs": [
        {
          "output_type": "execute_result",
          "data": {
            "text/plain": [
              "24875     1\n",
              "160919    1\n",
              "45565     0\n",
              "18904     0\n",
              "48369     1\n",
              "         ..\n",
              "16650     0\n",
              "118627    0\n",
              "13357     1\n",
              "43831     1\n",
              "39150     1\n",
              "Name: Review_Sentiment, Length: 160401, dtype: int64"
            ]
          },
          "metadata": {},
          "execution_count": 26
        }
      ]
    },
    {
      "cell_type": "markdown",
      "metadata": {
        "id": "dToIYPUMZcMu"
      },
      "source": [
        "#### Performing the step to convert the reviews in text format to vectors"
      ]
    },
    {
      "cell_type": "code",
      "metadata": {
        "id": "Of7zHkOcXgH9",
        "colab": {
          "base_uri": "https://localhost:8080/"
        },
        "outputId": "84cac66d-5e6e-408e-d5b2-be4635a44d6a"
      },
      "source": [
        "# Performing the step to convert the reviews in text format to vectors\n",
        "cv = CountVectorizer(max_features = 6000, ngram_range = (4, 4))\n",
        "pipeline = Pipeline([('vect',cv)])\n",
        "\n",
        "df_train_features = pipeline.fit_transform(df_train['clean_review'])\n",
        "df_test_features = pipeline.transform(df_test['clean_review'])\n",
        "\n",
        "print(\"df_train_features :\", df_train_features.shape)\n",
        "print(\"df_test_features :\", df_test_features.shape)\n"
      ],
      "execution_count": 27,
      "outputs": [
        {
          "output_type": "stream",
          "name": "stdout",
          "text": [
            "df_train_features : (160401, 6000)\n",
            "df_test_features : (53468, 6000)\n"
          ]
        }
      ]
    },
    {
      "cell_type": "markdown",
      "metadata": {
        "id": "D724d1po6Eia"
      },
      "source": [
        "#FNN Model"
      ]
    },
    {
      "cell_type": "code",
      "source": [
        "# Custom function\n",
        "# Performing the step to define the model\n",
        "def create_FNN_model(dropout_rate=0.5):\n",
        "# Model Structure\n",
        "    model = keras.models.Sequential()\n",
        "\n",
        "# Add the layers to the model \n",
        "    model.add(keras.layers.Dense(200, input_shape=(6000,)))\n",
        "    model.add(keras.layers.BatchNormalization())\n",
        "\n",
        "# Add the activation function relu\n",
        "    model.add(keras.layers.Activation('relu'))\n",
        "    model.add(keras.layers.Dropout(dropout_rate))\n",
        "\n",
        "# Add the layers to the model\n",
        "    model.add(keras.layers.Dense(300))\n",
        "    model.add(keras.layers.BatchNormalization())\n",
        "    model.add(keras.layers.Activation('relu'))\n",
        "\n",
        "# Add the dropout layer to the model\n",
        "    model.add(keras.layers.Dropout(dropout_rate))\n",
        "\n",
        "    model.add(keras.layers.Dense(100, activation = 'relu'))\n",
        "    model.add(keras.layers.Dense(1, activation = 'sigmoid'))\n",
        "\n",
        "#  Compile the model\n",
        "    model.compile(optimizer='adam', loss='binary_crossentropy', metrics=['accuracy'])\n",
        "    return model"
      ],
      "metadata": {
        "id": "Lh0UK1cx2COR"
      },
      "execution_count": 28,
      "outputs": []
    },
    {
      "cell_type": "markdown",
      "source": [
        "##### Keras Classifier"
      ],
      "metadata": {
        "id": "CeQlY86EKKfI"
      }
    },
    {
      "cell_type": "code",
      "source": [
        "model = KerasClassifier(build_fn=create_FNN_model)"
      ],
      "metadata": {
        "id": "TuqJZwBG3hJf",
        "colab": {
          "base_uri": "https://localhost:8080/"
        },
        "outputId": "4dbbb93f-a343-4821-c3b8-c9d0d5634051"
      },
      "execution_count": 29,
      "outputs": [
        {
          "output_type": "stream",
          "name": "stderr",
          "text": [
            "<ipython-input-29-6e7c2d8d0c84>:1: DeprecationWarning: KerasClassifier is deprecated, use Sci-Keras (https://github.com/adriangb/scikeras) instead. See https://www.adriangb.com/scikeras/stable/migration.html for help migrating.\n",
            "  model = KerasClassifier(build_fn=create_FNN_model)\n"
          ]
        }
      ]
    },
    {
      "cell_type": "markdown",
      "metadata": {
        "id": "2Zc6CzJRayKB"
      },
      "source": [
        "####Convert the features from sparse_csr_matrix to numpy array"
      ]
    },
    {
      "cell_type": "code",
      "metadata": {
        "id": "rgeudtY39VUn"
      },
      "source": [
        "#convert the features from sparse_csr_matrix to np.array\n",
        "df_train_features = df_train_features.toarray()"
      ],
      "execution_count": 30,
      "outputs": []
    },
    {
      "cell_type": "code",
      "metadata": {
        "id": "bgFFecieHTBZ",
        "colab": {
          "base_uri": "https://localhost:8080/"
        },
        "outputId": "422df150-9db8-488c-9594-3701e7a9ece6"
      },
      "source": [
        "type(df_train_features)"
      ],
      "execution_count": 31,
      "outputs": [
        {
          "output_type": "execute_result",
          "data": {
            "text/plain": [
              "numpy.ndarray"
            ]
          },
          "metadata": {},
          "execution_count": 31
        }
      ]
    },
    {
      "cell_type": "code",
      "source": [
        "#checking the column 'clean_review'\n",
        "df_train['clean_review']"
      ],
      "metadata": {
        "id": "nQbSkcmkTLI4",
        "colab": {
          "base_uri": "https://localhost:8080/"
        },
        "outputId": "ada3dd93-c4db-414c-b0f5-2843687a8d6d"
      },
      "execution_count": 32,
      "outputs": [
        {
          "output_type": "execute_result",
          "data": {
            "text/plain": [
              "24875     olux topic medic ive use abl control psoriasi ...\n",
              "160919    quotbeach babi drop beach althrough high schoo...\n",
              "45565     except drug pain relief side effect far outwei...\n",
              "18904     take doxi rickettsia feel like crap no energi ...\n",
              "48369     year social anxietypan attack sort research sn...\n",
              "                                ...                        \n",
              "16650     clindess didnt work sure expens doctor prescri...\n",
              "118627    suffer fibromyalgia year diagnos offici two ib...\n",
              "13357     use elmiron sinc februari love think gain weig...\n",
              "43831     im year old ive medic year mood temper life ge...\n",
              "39150     would good thing say strattera could got pass ...\n",
              "Name: clean_review, Length: 160401, dtype: object"
            ]
          },
          "metadata": {},
          "execution_count": 32
        }
      ]
    },
    {
      "cell_type": "markdown",
      "metadata": {
        "id": "NdsJhXdfbC_g"
      },
      "source": [
        "####Perform the step to fit the baseline model for training"
      ]
    },
    {
      "cell_type": "code",
      "metadata": {
        "id": "o5tVnpyEi1R4",
        "colab": {
          "base_uri": "https://localhost:8080/"
        },
        "outputId": "93fc3e80-dce8-4f8f-d9a4-e2eb4ed0cb6c"
      },
      "source": [
        "#Perform the step to fit the model for training\n",
        "FNN = model.fit(df_train_features, y_train.astype(int), epochs=20, validation_split=0.1, batch_size=64)\n"
      ],
      "execution_count": 33,
      "outputs": [
        {
          "output_type": "stream",
          "name": "stdout",
          "text": [
            "Epoch 1/20\n",
            "2256/2256 [==============================] - 23s 7ms/step - loss: 0.6222 - accuracy: 0.6713 - val_loss: 0.5911 - val_accuracy: 0.6936\n",
            "Epoch 2/20\n",
            "2256/2256 [==============================] - 14s 6ms/step - loss: 0.5792 - accuracy: 0.6965 - val_loss: 0.5840 - val_accuracy: 0.6929\n",
            "Epoch 3/20\n",
            "2256/2256 [==============================] - 14s 6ms/step - loss: 0.5645 - accuracy: 0.7039 - val_loss: 0.5808 - val_accuracy: 0.6949\n",
            "Epoch 4/20\n",
            "2256/2256 [==============================] - 14s 6ms/step - loss: 0.5560 - accuracy: 0.7078 - val_loss: 0.5823 - val_accuracy: 0.6960\n",
            "Epoch 5/20\n",
            "2256/2256 [==============================] - 14s 6ms/step - loss: 0.5484 - accuracy: 0.7110 - val_loss: 0.5785 - val_accuracy: 0.6975\n",
            "Epoch 6/20\n",
            "2256/2256 [==============================] - 14s 6ms/step - loss: 0.5419 - accuracy: 0.7135 - val_loss: 0.5774 - val_accuracy: 0.6991\n",
            "Epoch 7/20\n",
            "2256/2256 [==============================] - 14s 6ms/step - loss: 0.5366 - accuracy: 0.7167 - val_loss: 0.5847 - val_accuracy: 0.6991\n",
            "Epoch 8/20\n",
            "2256/2256 [==============================] - 14s 6ms/step - loss: 0.5329 - accuracy: 0.7177 - val_loss: 0.5811 - val_accuracy: 0.6992\n",
            "Epoch 9/20\n",
            "2256/2256 [==============================] - 14s 6ms/step - loss: 0.5298 - accuracy: 0.7195 - val_loss: 0.5751 - val_accuracy: 0.7015\n",
            "Epoch 10/20\n",
            "2256/2256 [==============================] - 15s 6ms/step - loss: 0.5266 - accuracy: 0.7210 - val_loss: 0.5805 - val_accuracy: 0.7021\n",
            "Epoch 11/20\n",
            "2256/2256 [==============================] - 14s 6ms/step - loss: 0.5232 - accuracy: 0.7225 - val_loss: 0.5858 - val_accuracy: 0.7024\n",
            "Epoch 12/20\n",
            "2256/2256 [==============================] - 14s 6ms/step - loss: 0.5211 - accuracy: 0.7235 - val_loss: 0.5816 - val_accuracy: 0.7040\n",
            "Epoch 13/20\n",
            "2256/2256 [==============================] - 14s 6ms/step - loss: 0.5198 - accuracy: 0.7242 - val_loss: 0.5812 - val_accuracy: 0.7037\n",
            "Epoch 14/20\n",
            "2256/2256 [==============================] - 14s 6ms/step - loss: 0.5180 - accuracy: 0.7250 - val_loss: 0.5794 - val_accuracy: 0.7022\n",
            "Epoch 15/20\n",
            "2256/2256 [==============================] - 14s 6ms/step - loss: 0.5164 - accuracy: 0.7258 - val_loss: 0.5801 - val_accuracy: 0.7042\n",
            "Epoch 16/20\n",
            "2256/2256 [==============================] - 14s 6ms/step - loss: 0.5158 - accuracy: 0.7263 - val_loss: 0.5839 - val_accuracy: 0.7037\n",
            "Epoch 17/20\n",
            "2256/2256 [==============================] - 14s 6ms/step - loss: 0.5148 - accuracy: 0.7275 - val_loss: 0.5885 - val_accuracy: 0.7038\n",
            "Epoch 18/20\n",
            "2256/2256 [==============================] - 14s 6ms/step - loss: 0.5136 - accuracy: 0.7274 - val_loss: 0.5917 - val_accuracy: 0.7029\n",
            "Epoch 19/20\n",
            "2256/2256 [==============================] - 15s 6ms/step - loss: 0.5130 - accuracy: 0.7280 - val_loss: 0.5850 - val_accuracy: 0.7033\n",
            "Epoch 20/20\n",
            "2256/2256 [==============================] - 15s 7ms/step - loss: 0.5123 - accuracy: 0.7279 - val_loss: 0.5941 - val_accuracy: 0.7036\n"
          ]
        }
      ]
    },
    {
      "cell_type": "markdown",
      "metadata": {
        "id": "v7h2rLa6cyl0"
      },
      "source": [
        "#### Converting the test features to numpy array"
      ]
    },
    {
      "cell_type": "code",
      "metadata": {
        "id": "R_wAuKcqoA60"
      },
      "source": [
        "df_test_features = df_test_features.toarray()"
      ],
      "execution_count": 34,
      "outputs": []
    },
    {
      "cell_type": "markdown",
      "metadata": {
        "id": "jOtDR3I7b0RY"
      },
      "source": [
        "#### Perform the step to do prediction on the model"
      ]
    },
    {
      "cell_type": "code",
      "metadata": {
        "id": "MKe3yMb4Ez88",
        "colab": {
          "base_uri": "https://localhost:8080/"
        },
        "outputId": "8ebf71ff-8e5e-4340-fc73-11ed113a4120"
      },
      "source": [
        "prediction = model.predict(df_test_features)\n",
        "print(prediction)"
      ],
      "execution_count": 35,
      "outputs": [
        {
          "output_type": "stream",
          "name": "stdout",
          "text": [
            "1671/1671 [==============================] - 4s 2ms/step\n",
            "[[0]\n",
            " [1]\n",
            " [1]\n",
            " ...\n",
            " [1]\n",
            " [1]\n",
            " [1]]\n"
          ]
        }
      ]
    },
    {
      "cell_type": "code",
      "source": [
        "# Predict the classes of the test data\n",
        "y_pred = model.predict(df_test_features)\n",
        "\n",
        "# Calculate the accuracy score\n",
        "accuracy = accuracy_score(y_test.astype(int), y_pred)\n",
        "print(\"Accuracy: %.2f%%\" % (accuracy * 100))"
      ],
      "metadata": {
        "id": "r-w45TeOdlpH",
        "colab": {
          "base_uri": "https://localhost:8080/"
        },
        "outputId": "03292c01-92d2-4ace-ca3d-e37e833bfd6d"
      },
      "execution_count": 36,
      "outputs": [
        {
          "output_type": "stream",
          "name": "stdout",
          "text": [
            "1671/1671 [==============================] - 3s 2ms/step\n",
            "Accuracy: 70.21%\n"
          ]
        }
      ]
    },
    {
      "cell_type": "markdown",
      "source": [],
      "metadata": {
        "id": "IlqY8a_jgm1u"
      }
    },
    {
      "cell_type": "markdown",
      "metadata": {
        "id": "NBwNxZwlhdgt"
      },
      "source": [
        "##Perform the visualization graphs of Feed Forward Neural Network"
      ]
    },
    {
      "cell_type": "markdown",
      "metadata": {
        "id": "AJwH9fpSiK5-"
      },
      "source": [
        "#### Perform the loss metric graph on training"
      ]
    },
    {
      "cell_type": "code",
      "metadata": {
        "id": "t0h2yrW5xhJ7",
        "colab": {
          "base_uri": "https://localhost:8080/",
          "height": 329
        },
        "outputId": "94c42b9b-f553-4799-8761-58f37e87ab2b"
      },
      "source": [
        "# Training Loss - training\n",
        "\n",
        "import matplotlib.pyplot as plt\n",
        "\n",
        "plt.plot(FNN.history['loss'],'-o')\n",
        "plt.plot(FNN.history['val_loss'],'-+')\n",
        "plt.title('Training loss curve Vs Validation Loss')\n",
        "plt.ylabel('loss')\n",
        "plt.xlabel('epoch')\n",
        "plt.legend(['Training Loss', 'Validation Loss'], loc='upper right')\n",
        "plt.show()"
      ],
      "execution_count": 37,
      "outputs": [
        {
          "output_type": "execute_result",
          "data": {
            "text/plain": [
              "[<matplotlib.lines.Line2D at 0x7f42c9dd09a0>]"
            ]
          },
          "metadata": {},
          "execution_count": 37
        },
        {
          "output_type": "execute_result",
          "data": {
            "text/plain": [
              "[<matplotlib.lines.Line2D at 0x7f42e1bbe850>]"
            ]
          },
          "metadata": {},
          "execution_count": 37
        },
        {
          "output_type": "execute_result",
          "data": {
            "text/plain": [
              "Text(0.5, 1.0, 'Training loss curve Vs Validation Loss')"
            ]
          },
          "metadata": {},
          "execution_count": 37
        },
        {
          "output_type": "execute_result",
          "data": {
            "text/plain": [
              "Text(0, 0.5, 'loss')"
            ]
          },
          "metadata": {},
          "execution_count": 37
        },
        {
          "output_type": "execute_result",
          "data": {
            "text/plain": [
              "Text(0.5, 0, 'epoch')"
            ]
          },
          "metadata": {},
          "execution_count": 37
        },
        {
          "output_type": "execute_result",
          "data": {
            "text/plain": [
              "<matplotlib.legend.Legend at 0x7f42e1bbea30>"
            ]
          },
          "metadata": {},
          "execution_count": 37
        },
        {
          "output_type": "display_data",
          "data": {
            "text/plain": [
              "<Figure size 432x288 with 1 Axes>"
            ],
            "image/png": "[encoded data removed]"
          },
          "metadata": {
            "needs_background": "light"
          }
        }
      ]
    },
    {
      "cell_type": "markdown",
      "metadata": {
        "id": "5JvFgrxgiPe_"
      },
      "source": [
        "#### Perform the accuracy metric graph - on training"
      ]
    },
    {
      "cell_type": "code",
      "metadata": {
        "id": "6NbEhGM2yodx",
        "colab": {
          "base_uri": "https://localhost:8080/",
          "height": 329
        },
        "outputId": "316993e6-8f38-4752-8af2-81a2a3a6ce4a"
      },
      "source": [
        "# Training Accuracy - on training\n",
        "\n",
        "import matplotlib.pyplot as plt\n",
        "\n",
        "plt.plot(FNN.history['accuracy'],'-o')\n",
        "plt.plot(FNN.history['val_accuracy'],'-+')\n",
        "plt.title('Training accuracy curve Vs Validation Loss curve')\n",
        "plt.ylabel('accuracy')\n",
        "plt.xlabel('epoch')\n",
        "plt.legend(['Training Accuracy', 'Validation Accuracy'], loc='center right')\n",
        "plt.show()"
      ],
      "execution_count": 38,
      "outputs": [
        {
          "output_type": "execute_result",
          "data": {
            "text/plain": [
              "[<matplotlib.lines.Line2D at 0x7f42b94fe5e0>]"
            ]
          },
          "metadata": {},
          "execution_count": 38
        },
        {
          "output_type": "execute_result",
          "data": {
            "text/plain": [
              "[<matplotlib.lines.Line2D at 0x7f42b94feca0>]"
            ]
          },
          "metadata": {},
          "execution_count": 38
        },
        {
          "output_type": "execute_result",
          "data": {
            "text/plain": [
              "Text(0.5, 1.0, 'Training accuracy curve Vs Validation Loss curve')"
            ]
          },
          "metadata": {},
          "execution_count": 38
        },
        {
          "output_type": "execute_result",
          "data": {
            "text/plain": [
              "Text(0, 0.5, 'accuracy')"
            ]
          },
          "metadata": {},
          "execution_count": 38
        },
        {
          "output_type": "execute_result",
          "data": {
            "text/plain": [
              "Text(0.5, 0, 'epoch')"
            ]
          },
          "metadata": {},
          "execution_count": 38
        },
        {
          "output_type": "execute_result",
          "data": {
            "text/plain": [
              "<matplotlib.legend.Legend at 0x7f42b94fed30>"
            ]
          },
          "metadata": {},
          "execution_count": 38
        },
        {
          "output_type": "display_data",
          "data": {
            "text/plain": [
              "<Figure size 432x288 with 1 Axes>"
            ],
            "image/png": "[encoded data removed]"
          },
          "metadata": {
            "needs_background": "light"
          }
        }
      ]
    },
    {
      "cell_type": "markdown",
      "source": [
        "#####END OF MODEL"
      ],
      "metadata": {
        "id": "7RM2lBH1fUrs"
      }
    }
  ]
}